{
  "cells": [
    {
      "cell_type": "code",
      "execution_count": null,
      "metadata": {
        "colab": {
          "base_uri": "https://localhost:8080/"
        },
        "id": "m-gfEaCRXYsQ",
        "outputId": "4a2b833c-5c3b-47ab-835d-dcc2a8de95a7"
      },
      "outputs": [],
      "source": [
        "from google.colab import drive\n",
        "drive.mount('/content/drive')\n",
        "path = \"/content/drive/MyDrive/ColabNotebooks/Data/MTech_Data/Exp6_Myo5_20200221/\"\n",
        "fingers= ['1_fingerspread','2_doubletap','3_wavein', '4_waveout','5_fist']\n",
        "path = \"/content/drive/MyDrive/ColabNotebooks/Data/SmallTrial/Day2/Multiple_PressAndRelease_5Sec/\"\n",
        "fingers = ['1T', '2I', '3M', '4R', '5L']"
      ]
    },
    {
      "cell_type": "code",
      "execution_count": null,
      "metadata": {
        "id": "pnCGoFVXah7M"
      },
      "outputs": [],
      "source": [
        "import pandas\n",
        "import datetime\n",
        "import os\n",
        "import math\n",
        "import glob\n",
        "import  numpy as np\n",
        "from scipy import signal\n",
        "import pandas as pd\n",
        "import matplotlib.pyplot as plt\n",
        "import pandas as pd\n",
        "import seaborn as sns\n",
        "import scipy \n",
        "from statsmodels import robust\n",
        "from sklearn.metrics import accuracy_score \n",
        "import cv2\n",
        "%matplotlib inline"
      ]
    },
    {
      "cell_type": "code",
      "execution_count": null,
      "metadata": {
        "colab": {
          "base_uri": "https://localhost:8080/",
          "height": 497
        },
        "id": "WAqt3I9Ckj9Z",
        "outputId": "082d2490-7dff-40ee-ecc4-a048a137293a"
      },
      "outputs": [
        {
          "name": "stdout",
          "output_type": "stream",
          "text": [
            "min = 196, max=622\n"
          ]
        },
        {
          "data": {
            "text/plain": [
              "(array([ 0.,  1., 54., 64., 63., 63., 29., 21.,  4.,  1.]),\n",
              " array([  0, 100, 200, 250, 275, 300, 350, 400, 500, 600, 700]),\n",
              " <a list of 10 Patch objects>)"
            ]
          },
          "execution_count": 16,
          "metadata": {},
          "output_type": "execute_result"
        },
        {
          "data": {
            "image/png": "[encoded data removed]",
            "text/plain": [
              "<Figure size 720x504 with 1 Axes>"
            ]
          },
          "metadata": {
            "needs_background": "light"
          },
          "output_type": "display_data"
        }
      ],
      "source": [
        "import glob\n",
        "import sys\n",
        "import pandas\n",
        "minlen = sys.maxsize\n",
        "maxlen = -sys.maxsize -1\n",
        "#path = \"/content/drive/MyDrive/ColabNotebooks/Data/MTech_Data/Exp10_5KeyPress_MultipleTimes_20200228/all/\"\n",
        "path = \"/content/drive/MyDrive/ColabNotebooks/Data/2022_60Trials_InstantPressAndRelease/\"\n",
        "fingers = ['1T', '2I', '3M', '4R', '5L']\n",
        "filelen = []\n",
        "\n",
        "#print(minlen)\n",
        "for exp in fingers :\n",
        "    files = glob.glob(path + exp + '/emg*.csv')    \n",
        "    #print(files)    \n",
        "    for file in files:\n",
        "        emgData = pandas.read_csv(file)\n",
        "        namepos = file.index('-')\n",
        "        name = file[namepos:]\n",
        "        length = len(emgData[emgData.columns[0]])\n",
        "        filelen.append(length)\n",
        "        if (minlen > length):\n",
        "          minlen = length\n",
        "          #print(\"name ={} {}\".format(file, minlen))\n",
        "\n",
        "        if (maxlen < length):\n",
        "          maxlen = length\n",
        "          #print(\"max name ={} {}\".format(file, maxlen))\n",
        "print(\"min = {}, max={}\".format(minlen, maxlen))\n",
        "#minlen = 500\n",
        "\n",
        "#print(filelen)\n",
        "fig, ax = plt.subplots(figsize =(10, 7))\n",
        "ax.hist(filelen, bins = [0, 100, 200, 250, 275,300, 350, 400, 500, 600, 700])"
      ]
    },
    {
      "cell_type": "markdown",
      "metadata": {
        "id": "pRNi6s720nmC"
      },
      "source": [
        "#Data to Features\n",
        "\n",
        "Things to cross check <br>\n",
        "1.file path and classes in fingers <br>\n",
        "2.sample_size <br>\n",
        "3.logval len of sample [can be samplesize or maxFrameLength of all trials] "
      ]
    },
    {
      "cell_type": "code",
      "execution_count": null,
      "metadata": {
        "colab": {
          "base_uri": "https://localhost:8080/"
        },
        "id": "j_S1M0fRZcRA",
        "outputId": "1fd3d88c-ef7e-46bb-e953-63d8657210ba"
      },
      "outputs": [],
      "source": [
        "import scipy\n",
        "#### Refactored Features\n",
        "\n",
        "from google.colab import drive\n",
        "drive.mount('/content/drive')\n",
        "#path = \"/content/drive/MyDrive/ColabNotebooks/Data/MTech_Data/Exp6_Myo5_20200221/\"\n",
        "#fingers= ['1_fingerspread','2_doubletap','3_wavein', '4_waveout','5_fist']\n",
        "\n",
        "#path = \"/content/drive/MyDrive/ColabNotebooks/Data/MTech_Data/Exp10_5KeyPress_MultipleTimes_20200228/all/\"\n",
        "path = \"/content/drive/MyDrive/ColabNotebooks/Data/2022_60Trials_InstantPressAndRelease/\"\n",
        "fingers = ['1T', '2I', '3M', '4R', '5L']\n",
        "\n",
        "#path = \"/content/drive/MyDrive/ColabNotebooks/Data/SmallTrial/Day2/Multiple_PressAndRelease_5Sec/\"\n",
        "#fingers = ['1T', '2I', '3M', '4R', '5L']\n",
        "import glob\n",
        "import sys\n",
        "import pandas\n",
        "import math\n",
        "import pandas\n",
        "import numpy as np\n",
        "import matplotlib.pyplot as plt\n",
        "\n",
        "minFileLength = sys.maxsize\n",
        "maxFileLength = -sys.maxsize -1\n",
        "for action in fingers :\n",
        "    files = glob.glob(path + action + '/emg*.csv')    \n",
        "    #print(files)    \n",
        "    for file in files:\n",
        "        emgData = pandas.read_csv(file)\n",
        "        namepos = file.index('-')\n",
        "        name = file[namepos:]\n",
        "        filelen = len(emgData[emgData.columns[0]])\n",
        "        if (minFileLength > filelen):\n",
        "          minFileLength = filelen\n",
        "          #print(\"name ={} {}\".format(file, minFileLength))\n",
        "        if (maxFileLength < filelen):\n",
        "          maxFileLength = filelen\n",
        "print(\"Min = {}, Max={}\".format(minFileLength, maxFileLength))\n",
        "input_cols = ['Mean', 'Standard Deviation','Skewness', 'Kurtosis', 'Standard Error',\n",
        "              'Mean Frequency','Median Frequency']\n",
        "index =0 \n",
        "minlen = 100\n",
        "ENABLE_LOGS = False\n",
        "for exp in fingers:\n",
        "    files = glob.glob(path + exp + '/emg*.csv')\n",
        "    result = []\n",
        "    #result.append([])\n",
        "    #result[0].append(input_cols)\n",
        "    #result.append([])\n",
        "    index = 0    \n",
        "    if ENABLE_LOGS or True:\n",
        "      print(files)\n",
        "    for trial in files:\n",
        "      if ENABLE_LOGS:\n",
        "        print(trial)\n",
        "      #if index > 0:\n",
        "      #  break      \n",
        "      emgData = pandas.read_csv(trial)      \n",
        "      for data in emgData.columns:        \n",
        "        #if ENABLE_LOGS and (index > 0):\n",
        "        #  break    \n",
        "        if not 'emg2' in data:\n",
        "          continue\n",
        "        complete_emg = emgData[data]\n",
        "        if ENABLE_LOGS:\n",
        "          print(\"Len={}\".format(len(complete_emg)))\n",
        "        #emg_frame = complete_emg[0:200]#[50:250]\n",
        "        #for instant press release experiment take sample size as complete emg length for each trial\n",
        "        if (\"Instant\" in path) or (len(complete_emg) < minlen):\n",
        "          #sample_size = len(complete_emg)\n",
        "          sample_size = 50\n",
        "        else:\n",
        "          sample_size = minlen\n",
        "        for i in range(0, minFileLength, sample_size):\n",
        "          result.append([])          \n",
        "          emg = complete_emg[i:i+sample_size]\n",
        "          emg = emg.dropna()\n",
        "          emg_frame = emg\n",
        "          \n",
        "          #emg -= np.mean(emg) #skewness and kurtosis do not depends on mean\n",
        "          emg_frame = pandas.to_numeric(emg_frame)\n",
        "          \n",
        "          #mean absolute value sum(x)\n",
        "          mean = np.mean(abs(emg_frame))#/len(emg_frame)\n",
        "          result[index].append(mean)\n",
        "          \n",
        "          #Standard Deviation\n",
        "          std = np.std(emg_frame)\n",
        "          result[index].append(std)\n",
        "          \n",
        "          #Skewness - is by taking the mean of the cubes of differences of each point from the mean\n",
        "          #and then dividing it by the cube of the standard deviation.           \n",
        "          skew = scipy.stats.skew(emg_frame, axis=0)\n",
        "          result[index].append(skew)\n",
        "          \n",
        "          #Kurtosis\n",
        "          kurt =scipy.stats.kurtosis(emg_frame,axis=0,fisher=False) \n",
        "          result[index].append(kurt)\n",
        "\n",
        "          #standard error \n",
        "          sem = scipy.stats.sem(emg_frame)\n",
        "          result[index].append(sem)\n",
        "          \n",
        "          #n is nearest power of 2 of len(emg)\n",
        "          if True and (\"Instant\" in path):\n",
        "            logval = math.log2(maxFileLength)\n",
        "          else :\n",
        "            logval = math.log2(sample_size)\n",
        "          n= int(math.pow(2,math.ceil(logval)))#1024 #256 #4096 #512 #2048 #4096                     \n",
        "          #print(\"{} {} {}\".format(sample_size, logval, math.ceil(logval)))\n",
        "          #print(\"samplelen={} n ={} logval ={}\".format(sample_size, n, logval))\n",
        "          \n",
        "          #sampling_rate = 200\n",
        "          #i/sampling_rate = (i/len(emg_frame))*(len(emg_frame)/sampling_rate)[time varies from 1/200 to 1]\n",
        "          #time = np.array([i/sampling_rate for i in range(0, len(emg_frame), 1)])          \n",
        "          #plt.plot(time, emg_frame)\n",
        "          #plt.show()\n",
        "          abs_fft = np.absolute(np.fft.fft(emg_frame, n=n))\n",
        "          #avoid zero from fft before log\n",
        "          if 0 in abs_fft:\n",
        "            all_indexes = [a for a in range(len(abs_fft)) if abs_fft[a] == 0]\n",
        "            #to find second min value to replace the 0\n",
        "            abs_fft[all_indexes] = sys.maxsize\n",
        "            #we may set to epsilon(usual flooring value) if second min can be higher\n",
        "            minValue = min(abs_fft)\n",
        "            abs_fft[all_indexes] = minValue\n",
        "            if ENABLE_LOGS:\n",
        "              print(\"Index {}\".format(all_indexes))\n",
        "              for i in all_indexes:\n",
        "                print(\"{} is = to {}\".format(i, abs_fft[i]))\n",
        "\n",
        "          #spectrum has large dynamic range. lot of details in lower power spectral will be lost. \n",
        "          #to make sure dynamic range is properly maintained 20 (since psd is square rooted) *log\n",
        "          log_abs_fft = np.log(abs_fft)\n",
        "          ####Err -inf for few\n",
        "          #shift_fft = np.fft.fftshift(log_abs_fft)\n",
        "          if False:\n",
        "            print(\"Before Shift {}\".format(log_abs_fft))\n",
        "            plt.plot(log_abs_fft)\n",
        "            plt.show()\n",
        "            #print(\"After Shift {}\".format(shift_fft))\n",
        "            #plt.plot(shift_fft)\n",
        "            #plt.show()\n",
        "          \n",
        "          #print(abs_fft)\n",
        "          psd = (1/n)*20*log_abs_fft          \n",
        "          psd_x = np.array([i for i in range (0, n, 1)])\n",
        "          if ENABLE_LOGS:\n",
        "            print(\"Complete PSD\")\n",
        "            plt.plot(psd_x, psd)\n",
        "            plt.show()\n",
        "          \n",
        "          #print(\"First half PSD\")\n",
        "          #plt.plot(psd_x[0:(int)(n/2)], psd[0:(int)(n/2)])\n",
        "          #plt.psd(psd)\n",
        "          #plt.show()\n",
        "          \n",
        "          psd_half = psd[0:(int)(n/2)]\n",
        "          #print(\"Half {}\".format(len(psd_half)))\n",
        "          #print(psd_half)\n",
        "          #Mean frequency sum(P)/M\n",
        "          sumofpsd = np.sum(psd_half)    \n",
        "          psd_half_pdf = psd_half/sumofpsd\n",
        "          sumofpdf = np.sum(psd_half_pdf)\n",
        "          \n",
        "          if ENABLE_LOGS:\n",
        "            plt.plot(psd_x[0:len(psd_half)], psd_half_pdf)\n",
        "            plt.show()\n",
        "            print(sumofpdf)\n",
        "          \n",
        "          arr_i = [i for i in range(0, len(psd_half),1)]\n",
        "          e_i = psd_half_pdf\n",
        "          e_sum = 0\n",
        "          for t in range (0,len(psd_half),1):\n",
        "            e_sum = e_sum + e_i[t]*arr_i[t]\n",
        "\n",
        "          #if pd.isnull(e_sum):\n",
        "            #print(psd_half)\n",
        "            #print(emg_frame)\n",
        "            \n",
        "          meanfreq_idx = e_sum#/len(psd_half)\n",
        "          meanfreq = (meanfreq_idx*100)/len(psd_half)          \n",
        "          #if (pd.isnull(meanfreq)):\n",
        "          #  print(\"{} {} {}\".format(abs_fft, log_abs_fft, log_abs_fft[128]))\n",
        "          \n",
        "          e_sum = 0\n",
        "          e_half = 1/2\n",
        "          global_t =0\n",
        "          \n",
        "          for t in range (0,len(psd_half),1):\n",
        "            e_sum = e_sum + e_i[t]\n",
        "            if e_sum >= e_half:\n",
        "              global_t = t\n",
        "              break\n",
        "              \n",
        "          medfreq_idx = global_t-1\n",
        "          medfreq = (medfreq_idx*100)/len(psd_half)\n",
        "          result[index].append(meanfreq)\n",
        "          result[index].append(medfreq)          \n",
        "          index = index + 1\n",
        "    \n",
        "    np.where(result=='[', '', result)\n",
        "    np.where(result==']', '', result)\n",
        "    np.savetxt(path + str('Features_{}.csv'.format(exp)), result, delimiter=\",\", fmt='%s')\n",
        "    print(\"Total Features Features_{} ={}\".format(exp, index))"
      ]
    },
    {
      "cell_type": "markdown",
      "metadata": {
        "id": "XaSAIGAKsDZP"
      },
      "source": [
        "#OverLapping Window"
      ]
    },
    {
      "cell_type": "code",
      "execution_count": null,
      "metadata": {
        "colab": {
          "base_uri": "https://localhost:8080/"
        },
        "id": "9kOJyJacsCb-",
        "outputId": "4926e173-c440-40d7-99b3-b39e05ea4eff"
      },
      "outputs": [],
      "source": [
        "import scipy\n",
        "#### Refactored Features\n",
        "\n",
        "from google.colab import drive\n",
        "drive.mount('/content/drive')\n",
        "#path = \"/content/drive/MyDrive/ColabNotebooks/Data/MTech_Data/Exp6_Myo5_20200221/\"\n",
        "#fingers= ['1_fingerspread','2_doubletap','3_wavein', '4_waveout','5_fist']\n",
        "\n",
        "path = \"/content/drive/MyDrive/ColabNotebooks/Data/2022_60Trials_InstantPressAndRelease/\"\n",
        "fingers = ['1T', '2I', '3M', '4R', '5L']\n",
        "\n",
        "import glob\n",
        "import sys\n",
        "import pandas\n",
        "import math\n",
        "import pandas\n",
        "import numpy as np\n",
        "import matplotlib.pyplot as plt\n",
        "\n",
        "minFileLength = sys.maxsize\n",
        "maxFileLength = -sys.maxsize -1\n",
        "for action in fingers :\n",
        "    files = glob.glob(path + action + '/emg*.csv')    \n",
        "    #print(files)    \n",
        "    for file in files:\n",
        "        emgData = pandas.read_csv(file)\n",
        "        namepos = file.index('-')\n",
        "        name = file[namepos:]\n",
        "        filelen = len(emgData[emgData.columns[0]])\n",
        "        if (minFileLength > filelen):\n",
        "          minFileLength = filelen\n",
        "          #print(\"name ={} {}\".format(file, minFileLength))\n",
        "        if (maxFileLength < filelen):\n",
        "          maxFileLength = filelen\n",
        "print(\"Min = {}, Max={}\".format(minFileLength, maxFileLength))\n",
        "input_cols = ['Mean', 'Standard Deviation','Skewness', 'Kurtosis', 'Standard Error',\n",
        "              'Mean Frequency','Median Frequency']\n",
        "index =0 \n",
        "minlen = 100\n",
        "ENABLE_LOGS = False\n",
        "for exp in fingers:\n",
        "    files = glob.glob(path + exp + '/emg*.csv')\n",
        "    result = []\n",
        "    index = 0    \n",
        "    if ENABLE_LOGS or True:\n",
        "      print(files)\n",
        "    for trial in files:\n",
        "      if ENABLE_LOGS:\n",
        "        print(trial)\n",
        "      #if index > 0:\n",
        "      #  break      \n",
        "      emgData = pandas.read_csv(trial)      \n",
        "      for data in emgData.columns:        \n",
        "        #if ENABLE_LOGS and (index > 0):\n",
        "        #  break    \n",
        "        if not 'emg2' in data:\n",
        "          continue\n",
        "        complete_emg = emgData[data]\n",
        "        if ENABLE_LOGS:\n",
        "          print(\"Len={}\".format(len(complete_emg)))\n",
        "        #emg_frame = complete_emg[0:200]#[50:250]\n",
        "        #for instant press release experiment take sample size as complete emg length for each trial\n",
        "        if (\"Instant\" in path) or (len(complete_emg) < minlen):\n",
        "          #sample_size = len(complete_emg)\n",
        "          sample_size = 50\n",
        "        else:\n",
        "          sample_size = minlen\n",
        "        for i in range(0, minFileLength, (int)(sample_size*(0.50))): #50% overlap\n",
        "          result.append([])          \n",
        "          emg = complete_emg[i:i+sample_size]\n",
        "          emg = emg.dropna()\n",
        "          emg_frame = emg\n",
        "          \n",
        "          #emg -= np.mean(emg) #skewness and kurtosis do not depends on mean\n",
        "          emg_frame = pandas.to_numeric(emg_frame)\n",
        "          \n",
        "          #mean absolute value sum(x)\n",
        "          mean = np.mean(abs(emg_frame))#/len(emg_frame)\n",
        "          result[index].append(mean)\n",
        "          \n",
        "          #Standard Deviation\n",
        "          std = np.std(emg_frame)\n",
        "          result[index].append(std)\n",
        "          \n",
        "          #Skewness - is by taking the mean of the cubes of differences of each point from the mean\n",
        "          #and then dividing it by the cube of the standard deviation.           \n",
        "          skew = scipy.stats.skew(emg_frame, axis=0)\n",
        "          result[index].append(skew)\n",
        "          \n",
        "          #Kurtosis\n",
        "          kurt =scipy.stats.kurtosis(emg_frame,axis=0,fisher=False) \n",
        "          result[index].append(kurt)\n",
        "\n",
        "          #standard error \n",
        "          sem = scipy.stats.sem(emg_frame)\n",
        "          result[index].append(sem)\n",
        "          \n",
        "          #n is nearest power of 2 of len(emg)\n",
        "          if True and (\"Instant\" in path):\n",
        "            logval = math.log2(maxFileLength)\n",
        "          else :\n",
        "            logval = math.log2(sample_size)\n",
        "          n= int(math.pow(2,math.ceil(logval)))#1024 #256 #4096 #512 #2048 #4096                     \n",
        "          #print(\"{} {} {}\".format(sample_size, logval, math.ceil(logval)))\n",
        "          #print(\"samplelen={} n ={} logval ={}\".format(sample_size, n, logval))\n",
        "          \n",
        "          #sampling_rate = 200\n",
        "          #i/sampling_rate = (i/len(emg_frame))*(len(emg_frame)/sampling_rate)[time varies from 1/200 to 1]\n",
        "          #time = np.array([i/sampling_rate for i in range(0, len(emg_frame), 1)])          \n",
        "          #plt.plot(time, emg_frame)\n",
        "          #plt.show()\n",
        "          abs_fft = np.absolute(np.fft.fft(emg_frame, n=n))\n",
        "          #avoid zero from fft before log\n",
        "          if 0 in abs_fft:\n",
        "            all_indexes = [a for a in range(len(abs_fft)) if abs_fft[a] == 0]\n",
        "            #to find second min value to replace the 0\n",
        "            abs_fft[all_indexes] = sys.maxsize\n",
        "            #we may set to epsilon(usual flooring value) if second min can be higher\n",
        "            minValue = min(abs_fft)\n",
        "            abs_fft[all_indexes] = minValue\n",
        "            if ENABLE_LOGS:\n",
        "              print(\"Index {}\".format(all_indexes))\n",
        "              for i in all_indexes:\n",
        "                print(\"{} is = to {}\".format(i, abs_fft[i]))\n",
        "\n",
        "          #spectrum has large dynamic range. lot of details in lower power spectral will be lost. \n",
        "          #to make sure dynamic range is properly maintained 20 (since psd is square rooted) *log\n",
        "          log_abs_fft = np.log(abs_fft)\n",
        "          ####Err -inf for few\n",
        "          #shift_fft = np.fft.fftshift(log_abs_fft)\n",
        "          if False:\n",
        "            print(\"Before Shift {}\".format(log_abs_fft))\n",
        "            plt.plot(log_abs_fft)\n",
        "            plt.show()\n",
        "            #print(\"After Shift {}\".format(shift_fft))\n",
        "            #plt.plot(shift_fft)\n",
        "            #plt.show()\n",
        "          \n",
        "          #print(abs_fft)\n",
        "          psd = (1/n)*20*log_abs_fft          \n",
        "          psd_x = np.array([i for i in range (0, n, 1)])\n",
        "          if ENABLE_LOGS:\n",
        "            print(\"Complete PSD\")\n",
        "            plt.plot(psd_x, psd)\n",
        "            plt.show()\n",
        "          \n",
        "          #print(\"First half PSD\")\n",
        "          #plt.plot(psd_x[0:(int)(n/2)], psd[0:(int)(n/2)])\n",
        "          #plt.psd(psd)\n",
        "          #plt.show()\n",
        "          \n",
        "          psd_half = psd[0:(int)(n/2)]\n",
        "          #print(\"Half {}\".format(len(psd_half)))\n",
        "          #print(psd_half)\n",
        "          #Mean frequency sum(P)/M\n",
        "          sumofpsd = np.sum(psd_half)    \n",
        "          psd_half_pdf = psd_half/sumofpsd\n",
        "          sumofpdf = np.sum(psd_half_pdf)\n",
        "          \n",
        "          if ENABLE_LOGS:\n",
        "            plt.plot(psd_x[0:len(psd_half)], psd_half_pdf)\n",
        "            plt.show()\n",
        "            print(sumofpdf)\n",
        "          \n",
        "          arr_i = [i for i in range(0, len(psd_half),1)]\n",
        "          e_i = psd_half_pdf\n",
        "          e_sum = 0\n",
        "          for t in range (0,len(psd_half),1):\n",
        "            e_sum = e_sum + e_i[t]*arr_i[t]\n",
        "\n",
        "          #if pd.isnull(e_sum):\n",
        "            #print(psd_half)\n",
        "            #print(emg_frame)\n",
        "            \n",
        "          meanfreq_idx = e_sum#/len(psd_half)\n",
        "          meanfreq = (meanfreq_idx*100)/len(psd_half)          \n",
        "          #if (pd.isnull(meanfreq)):\n",
        "          #  print(\"{} {} {}\".format(abs_fft, log_abs_fft, log_abs_fft[128]))\n",
        "          \n",
        "          e_sum = 0\n",
        "          e_half = 1/2\n",
        "          global_t =0\n",
        "          \n",
        "          for t in range (0,len(psd_half),1):\n",
        "            e_sum = e_sum + e_i[t]\n",
        "            if e_sum >= e_half:\n",
        "              global_t = t\n",
        "              break\n",
        "              \n",
        "          medfreq_idx = global_t-1\n",
        "          medfreq = (medfreq_idx*100)/len(psd_half)\n",
        "          result[index].append(meanfreq)\n",
        "          result[index].append(medfreq)          \n",
        "          index = index + 1\n",
        "    \n",
        "    np.where(result=='[', '', result)\n",
        "    np.where(result==']', '', result)\n",
        "    np.savetxt(path + str('Features_{}.csv'.format(exp)), result, delimiter=\",\", fmt='%s')\n",
        "    print(\"Total Features Features_{} ={}\".format(exp, index))"
      ]
    },
    {
      "cell_type": "code",
      "execution_count": null,
      "metadata": {
        "colab": {
          "base_uri": "https://localhost:8080/"
        },
        "id": "hrbGihRr8Ne8",
        "outputId": "9d814567-39ce-44fa-8189-dee6900843c4"
      },
      "outputs": [],
      "source": [
        "print(index)\n",
        "print(fingers)"
      ]
    },
    {
      "cell_type": "markdown",
      "metadata": {
        "id": "jvTCKLSWaNv_"
      },
      "source": [
        "#ScatterPlot MNF and MDF"
      ]
    },
    {
      "cell_type": "code",
      "execution_count": null,
      "metadata": {
        "colab": {
          "base_uri": "https://localhost:8080/"
        },
        "id": "yVtKWPiWZ_mS",
        "outputId": "94438ad7-eb26-4318-bc66-45a4394927d5"
      },
      "outputs": [
        {
          "data": {
            "image/png": "[encoded data removed]",
            "text/plain": [
              "<Figure size 432x288 with 1 Axes>"
            ]
          },
          "metadata": {
            "needs_background": "light"
          },
          "output_type": "display_data"
        },
        {
          "data": {
            "image/png": "[encoded data removed]",
            "text/plain": [
              "<Figure size 432x288 with 1 Axes>"
            ]
          },
          "metadata": {
            "needs_background": "light"
          },
          "output_type": "display_data"
        },
        {
          "data": {
            "image/png": "[encoded data removed]",
            "text/plain": [
              "<Figure size 432x288 with 1 Axes>"
            ]
          },
          "metadata": {
            "needs_background": "light"
          },
          "output_type": "display_data"
        },
        {
          "data": {
            "image/png": "[encoded data removed]",
            "text/plain": [
              "<Figure size 432x288 with 1 Axes>"
            ]
          },
          "metadata": {
            "needs_background": "light"
          },
          "output_type": "display_data"
        },
        {
          "data": {
            "image/png": "[encoded data removed]",
            "text/plain": [
              "<Figure size 432x288 with 1 Axes>"
            ]
          },
          "metadata": {
            "needs_background": "light"
          },
          "output_type": "display_data"
        }
      ],
      "source": [
        "features_scp = []\n",
        "all_temp_scp = []\n",
        "all_temp_scpY = []\n",
        "features_scpY = []\n",
        "for exp in fingers:\n",
        "    fea = pandas.read_csv(path + 'Features_{}.csv'.format(exp), header=None)     \n",
        "    fea_dropna =  fea.iloc[:,5:].dropna()        \n",
        "    if True:\n",
        "      plt.scatter(fea_dropna[5],fea_dropna[6])\n",
        "      plt.title(\"Features_{}\".format(exp))\n",
        "      plt.xlabel(\"MNF\")\n",
        "      plt.ylabel(\"MDF\")\n",
        "      plt.show()    \n",
        "    all_temp_scp.append(fea_dropna)\n",
        "    all_temp_scpY.append([index]*len(fea_dropna))\n",
        "    #print(len(fea_dropna))    \n",
        "    index = int(exp[0])\n",
        "    features_scpY = features_scpY + [index]*len(fea_dropna)    \n",
        "#features_scp = pandas.concat(all_temp_scp)\n",
        "#print(\"Length {} {} {}\".format(len(features_scp), len(features_scp[5]), len(features_scp[6])))\n",
        "#print(\"MultiClass {}\".format(set(features_scpY)))\n",
        "#plt.scatter(features_scp[5],features_scp[6], c=features_scpY)\n",
        "plt.show()    "
      ]
    },
    {
      "cell_type": "code",
      "execution_count": null,
      "metadata": {
        "id": "QGicsqV-bgvM"
      },
      "outputs": [],
      "source": [
        "# #print(len(all_temp_scp))\n",
        "# #print(len(all_temp_scpY))\n",
        "# for i in range(1,5,1):\n",
        "#  for j in range(1,5,1):\n",
        "#    if i == j:\n",
        "#      continue\n",
        "#    features_scpY = [all_temp_scp[i],all_temp_scp[j]]\n",
        "#    #print(features_scpY)\n",
        "#    plt.scatter(all_temp_scp[i][5],all_temp_scp[j][6], c=features_scpY)\n",
        "# plt.show()    "
      ]
    },
    {
      "cell_type": "markdown",
      "metadata": {
        "id": "RBqP_xaHW13g"
      },
      "source": [
        "#Histogram MNF and MDF"
      ]
    },
    {
      "cell_type": "code",
      "execution_count": null,
      "metadata": {
        "colab": {
          "base_uri": "https://localhost:8080/"
        },
        "id": "QmGhiIDWW09w",
        "outputId": "e063c24c-a02f-4d12-cb0c-49b1161eda58"
      },
      "outputs": [
        {
          "name": "stdout",
          "output_type": "stream",
          "text": [
            "['1T', '2I', '3M', '4R', '5L']\n"
          ]
        },
        {
          "data": {
            "image/png": "[encoded data removed]",
            "text/plain": [
              "<Figure size 504x1800 with 5 Axes>"
            ]
          },
          "metadata": {
            "needs_background": "light"
          },
          "output_type": "display_data"
        },
        {
          "data": {
            "image/png": "[encoded data removed]",
            "text/plain": [
              "<Figure size 504x1800 with 5 Axes>"
            ]
          },
          "metadata": {
            "needs_background": "light"
          },
          "output_type": "display_data"
        }
      ],
      "source": [
        "# define subplot grid\n",
        "fig, axs = plt.subplots(nrows=5, ncols=1, figsize=(7, 25))\n",
        "#plt.subplots_adjust(hspace=0.1)\n",
        "fig.suptitle(\"Mean Frequencies\", fontsize=10, y=0.95)\n",
        "print(fingers)\n",
        "# loop through tickers and axes\n",
        "for exp, ax in zip(fingers, axs.ravel()):\n",
        "    fea = pandas.read_csv(path + 'Features_{}.csv'.format(exp), header=None)     \n",
        "    fea_dropna =  fea.iloc[:,5:].dropna()            \n",
        "    ax.hist(fea_dropna[5], bins = [40, 50, 51,52,53,54,55,60], histtype ='step')    \n",
        "    ax.set_xlabel(exp)\n",
        "plt.show()\n",
        "fig, axs = plt.subplots(nrows=5, ncols=1, figsize=(7, 25))\n",
        "fig.suptitle(\"Median Frequencies\", fontsize=10, y=0.95)\n",
        "for exp, ax in zip(fingers, axs.ravel()):\n",
        "    fea = pandas.read_csv(path + 'Features_{}.csv'.format(exp), header=None)     \n",
        "    fea_dropna =  fea.iloc[:,5:].dropna()            \n",
        "    ax.hist(fea_dropna[6], bins = [40, 50, 51,52,53,54,55,60], histtype ='step')    \n",
        "    ax.set_xlabel(exp)\n",
        "plt.show()\n"
      ]
    },
    {
      "cell_type": "code",
      "execution_count": null,
      "metadata": {
        "colab": {
          "base_uri": "https://localhost:8080/"
        },
        "id": "9al9KMC2oYOK",
        "outputId": "7a04050b-61a3-4986-ff4b-7f69743d446c"
      },
      "outputs": [
        {
          "data": {
            "image/png": "[encoded data removed]",
            "text/plain": [
              "<Figure size 504x360 with 1 Axes>"
            ]
          },
          "metadata": {
            "needs_background": "light"
          },
          "output_type": "display_data"
        },
        {
          "data": {
            "image/png": "[encoded data removed]",
            "text/plain": [
              "<Figure size 504x360 with 1 Axes>"
            ]
          },
          "metadata": {
            "needs_background": "light"
          },
          "output_type": "display_data"
        }
      ],
      "source": [
        "fig, ax = plt.subplots(figsize =(7, 5))\n",
        "fig1, ax1 = plt.subplots(figsize =(7, 5))\n",
        "ax.set_xlabel(\"Mean Frequency\")\n",
        "ax.set_ylim(0, 60)    \n",
        "ax1.set_xlabel(\"Median Frequency\")\n",
        "ax1.set_ylim(0, 60)\n",
        "\n",
        "for exp in fingers:\n",
        "    fea = pandas.read_csv(path + 'Features_{}.csv'.format(exp), header=None)     \n",
        "    fea_dropna =  fea.iloc[:,5:].dropna()        \n",
        "    #histtype = bar, step, stepfilled\n",
        "    #ax.hist(fea_dropna[5], bins = [40, 50, 51,52,53,54,55, 60], histtype ='step')    \n",
        "    ax.hist(fea_dropna[5], bins = [40, 50, 60], histtype ='step')    \n",
        "    #ax1.hist(fea_dropna[6], bins = [40, 50, 51,52,53,54,55, 60], histtype ='step')\n",
        "    ax1.hist(fea_dropna[6], bins = [40, 50, 60], histtype ='step')\n",
        "#fig.show()\n",
        "#fig1.show()"
      ]
    },
    {
      "cell_type": "markdown",
      "metadata": {
        "id": "s-gfiqkOaFTV"
      },
      "source": [
        "#TSNE 2D"
      ]
    },
    {
      "cell_type": "code",
      "execution_count": null,
      "metadata": {
        "colab": {
          "base_uri": "https://localhost:8080/"
        },
        "id": "lCz4NPZBpGD9",
        "outputId": "2541af98-c016-4a27-ff23-b08a3fd60928"
      },
      "outputs": [],
      "source": [
        "from numpy import random\n",
        "import csv\n",
        "import numpy as np\n",
        "import pandas as pd\n",
        "from sklearn.manifold import TSNE\n",
        "%matplotlib inline\n",
        "import matplotlib.pyplot as plt\n",
        "from mpl_toolkits.mplot3d import Axes3D\n",
        "import seaborn as sns\n",
        "fingers = ['1T', '2I', '3M','4R','5L']\n",
        "\n",
        "path = \"/content/drive/MyDrive/ColabNotebooks/Data/2022_60Trials_InstantPressAndRelease/Matlab_EMGT/Features_ShortFrameSize50_Overlap0/\"\n",
        "sampleData = False;\n",
        "if sampleData:\n",
        "  X1 = random.randint(-10,0, size=[500,2])\n",
        "  X2 = random.randint(0,10, size=[500,2])\n",
        "  X = np.concatenate((X1, X2))\n",
        "  Y1 =[0]*500\n",
        "  Y2 =[1]*500\n",
        "  Ytrain_Plot = np.concatenate((Y1, Y2))\n",
        "  palette = sns.color_palette(\"bright\", 2)\n",
        "  df = pd.DataFrame(X,columns=[0,1])\n",
        "else :\n",
        "  features = []\n",
        "  featuresY = []\n",
        "  Xtrain_Plot = []\n",
        "  Ytrain_Plot = []  \n",
        "  for exp in fingers:\n",
        "    #fea = pandas.read_csv(path + 'Features_{}.csv'.format(exp), header=None)\n",
        "    #fea = pd.read_excel(path + 'Features_{}.xls'.format(exp))\n",
        "    fea = pd.read_excel(path + 'Features_{}.xls'.format(exp), header=0, usecols=['ar1', 'ar2','ar3', 'ar4'])\n",
        "    print(\"Features_{} {} {}\".format(exp, fea.shape, path))\n",
        "    fea_dropna = fea.dropna()#\n",
        "    #fea_dropna =  fea.iloc[:,0:5].dropna()#fea.iloc[0:400,0:5].dropna()\n",
        "    features.append(fea_dropna)   \n",
        "    #print(fea_dropna[0:5])\n",
        "    index = int(exp[0])\n",
        "    featuresY.append([index]*len(fea_dropna))\n",
        "    \n",
        "  Xtrain_Plot = np.concatenate(features)\n",
        "  Ytrain_Plot = np.concatenate(featuresY)\n",
        "  palette = sns.color_palette(\"bright\", len(fingers))\n",
        "  df = pd.DataFrame(Xtrain_Plot)\n",
        "df_subset = df #df.loc[N,:].copy()\n"
      ]
    },
    {
      "cell_type": "code",
      "execution_count": null,
      "metadata": {
        "cellView": "form",
        "id": "6lxrlXl7O-t-"
      },
      "outputs": [],
      "source": [
        "#@title\n",
        "data_subset = df_subset.values \n",
        "#perplexity 30 to 50\n",
        "tsne = TSNE(n_components=2, verbose=1, perplexity=99, n_iter=750)\n",
        "tsne_results = tsne.fit_transform(data_subset)\n",
        "df_subset['tsne-2d-one'] = tsne_results[:,0]\n",
        "df_subset['tsne-2d-two'] = tsne_results[:,1]\n",
        "print(Xtrain_Plot.shape)\n",
        "\n",
        "#ax2 = plt.subplot(1, 3, 2)\n",
        "sns.scatterplot(\n",
        "    x=\"tsne-2d-one\", y=\"tsne-2d-two\",\n",
        "    hue = Ytrain_Plot,\n",
        "    palette=palette,\n",
        "    data=df_subset,\n",
        "    legend=\"full\",\n",
        "    alpha=0.3,\n",
        "    )"
      ]
    },
    {
      "cell_type": "markdown",
      "metadata": {
        "id": "5Pf7x_2z3NTF"
      },
      "source": [
        "#Random Forest Classification"
      ]
    },
    {
      "cell_type": "code",
      "execution_count": null,
      "metadata": {
        "colab": {
          "base_uri": "https://localhost:8080/"
        },
        "id": "djQs-NiO-gpJ",
        "outputId": "c04c748f-c267-4aef-c763-1fc887e65928"
      },
      "outputs": [],
      "source": [
        "#print(\"Train {},{}, Validation {},{}, Test {},{}\".format(X_Train.shape, Y_Train.shape, X_Val.shape, Y_Val.shape,  X_Test.shape, Y_Test.shape,))\n",
        "from sklearn.preprocessing import StandardScaler\n",
        "from sklearn.discriminant_analysis import LinearDiscriminantAnalysis as LDA\n",
        "from sklearn.model_selection import cross_val_score, cross_val_predict\n",
        "from sklearn.model_selection import train_test_split\n",
        "\n",
        "import pandas as pd\n",
        "from sklearn.ensemble import RandomForestClassifier\n",
        "from sklearn.metrics import confusion_matrix  \n",
        "from sklearn.metrics import accuracy_score\n",
        "tensorX = Xtrain_Plot\n",
        "tensorY  = Ytrain_Plot\n",
        "X_Train, Xfor_test, Y_Train, Yfor_test = train_test_split(tensorX, tensorY, test_size=0.3, random_state=42, stratify= tensorY)\n",
        "#X_Train, Xfor_test, Y_Train, Yfor_test = train_test_split(tensorX, tensorY, test_size=0.1, random_state=42)\n",
        "X_Val, X_Test, Y_Val, Y_Test = train_test_split(Xfor_test, Yfor_test, test_size=(2/3), random_state=42, stratify=Yfor_test)\n",
        "print(\"Train {},{}, Validation {},{}, Test {},{}\".format(X_Train.shape, Y_Train.shape, X_Val.shape, Y_Val.shape,  X_Test.shape, Y_Test.shape,))\n",
        "\n",
        "from collections import Counter\n",
        "print(\"Count Train={}, Val={}, Test={}\".format(dict(Counter(Y_Train)), dict(Counter(Y_Val)), dict(Counter(Y_Test))))\n",
        "\n",
        "X_Val = np.reshape(X_Val, (X_Val.shape[0], -1))\n",
        "print(\"Squeeze for IP Channel {}, {}, {}\".format(X_Train.shape, X_Test.shape, X_Val.shape))\n",
        "\n",
        "sc = StandardScaler()  \n",
        "X_train = sc.fit_transform(X_Train)  \n",
        "X_val = sc.transform(X_Val)  \n",
        "X_test = sc.transform(X_Test) \n",
        "\n",
        "lda = LDA(n_components=len(fingers)-1)  \n",
        "X_trainlda = lda.fit_transform(X_train, Y_Train)  \n",
        "#print('#class={} {} {}'.format(len(fingers), X_train.shape, X_trainlda.shape))\n",
        "X_test = lda.transform(X_test)  \n",
        "X_val = lda.transform(X_val)  \n",
        "\n",
        "\n",
        "classifier = RandomForestClassifier(max_depth=6, n_estimators=20, random_state=0)\n",
        "classifier.fit(X_trainlda, Y_Train)  \n",
        "print('**********************************')\n",
        "y_pred = classifier.predict(X_trainlda)  \n",
        "print('Train Accuracy\\t=' + str(accuracy_score(Y_Train, y_pred)*100)) \n",
        "y_pred = classifier.predict(X_val)  \n",
        "print('Validation Accuracy' + str(accuracy_score(Y_Val, y_pred)*100)) \n",
        "y_pred = classifier.predict(X_test)  \n",
        "print('Test Accuracy\\t=' + str(accuracy_score(Y_Test, y_pred)*100)) \n",
        "print('**********************************')\n",
        "print('Classes Predicted {}'.format(set(Y_Test)))\n",
        "print(confusion_matrix(Y_Test, y_pred))\n",
        "\n",
        "from sklearn.model_selection import cross_val_score, cross_val_predict\n",
        "classifier.random_state = 0\n",
        "scores = cross_val_score(classifier, tensorX, tensorY, cv=10)\n",
        "print('CROSS VALIDATION \\n Mean={} Std {} \\n scores {}'.f\\ormat(np.mean(scores),np.std(scores), scores)[''])"
      ]
    }
  ],
  "metadata": {
    "colab": {
      "collapsed_sections": [
        "pRNi6s720nmC",
        "XaSAIGAKsDZP",
        "jvTCKLSWaNv_",
        "RBqP_xaHW13g",
        "lma-6t2C3UZs"
      ],
      "provenance": []
    },
    "kernelspec": {
      "display_name": "Python 3",
      "language": "python",
      "name": "python3"
    },
    "language_info": {
      "name": "python",
      "version": "3.7.2"
    },
    "vscode": {
      "interpreter": {
        "hash": "563863486409a6589ebccacba013d4e0cc7426b8e0c25fd67f2dd2defa8e17f4"
      }
    }
  },
  "nbformat": 4,
  "nbformat_minor": 0
}
